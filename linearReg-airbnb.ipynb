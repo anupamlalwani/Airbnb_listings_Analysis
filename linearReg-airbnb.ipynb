{
 "cells": [
  {
   "cell_type": "code",
   "execution_count": 2,
   "metadata": {
    "collapsed": true
   },
   "outputs": [],
   "source": [
    "#import regular libraries\n",
    "import pandas as pd\n",
    "import matplotlib.pyplot as plt"
   ]
  },
  {
   "cell_type": "code",
   "execution_count": 3,
   "metadata": {},
   "outputs": [
    {
     "name": "stderr",
     "output_type": "stream",
     "text": [
      "/Users/manjeetchawla/anaconda/lib/python3.6/site-packages/IPython/core/interactiveshell.py:2717: DtypeWarning: Columns (13) have mixed types. Specify dtype option on import or set low_memory=False.\n",
      "  interactivity=interactivity, compiler=compiler, result=result)\n"
     ]
    }
   ],
   "source": [
    "#read the complete data into universal dataframe\n",
    "data = pd.read_csv('refined.csv', encoding='iso=8859-1')"
   ]
  },
  {
   "cell_type": "code",
   "execution_count": 5,
   "metadata": {},
   "outputs": [
    {
     "data": {
      "text/plain": [
       "Index(['row_id', 'id', 'last_scraped', 'name', 'host_id', 'host_name',\n",
       "       'host_since', 'host_response_rate', 'host_neighbourhood',\n",
       "       'host_total_listings_count', 'street', 'neighbourhood_cleansed', 'city',\n",
       "       'zipcode', 'market', 'latitude', 'longitude', 'is_location_exact',\n",
       "       'property_type', 'room_type', 'accommodates', 'bathrooms', 'bedrooms',\n",
       "       'beds', 'bed_type', 'amenities', 'square_feet', 'price', 'weekly_price',\n",
       "       'security_deposit', 'cleaning_fee', 'guests_included', 'extra_people',\n",
       "       'minimum_nights', 'maximum_nights', 'availability_365',\n",
       "       'number_of_reviews', 'review_scores_rating', 'review_scores_accuracy',\n",
       "       'review_scores_cleanliness', 'review_scores_checkin',\n",
       "       'review_scores_communication', 'review_scores_location',\n",
       "       'review_scores_value', 'instant_bookable', 'cancellation_policy',\n",
       "       'calculated_host_listings_count', 'reviews_per_month'],\n",
       "      dtype='object')"
      ]
     },
     "execution_count": 5,
     "metadata": {},
     "output_type": "execute_result"
    }
   ],
   "source": [
    "data.columns"
   ]
  },
  {
   "cell_type": "markdown",
   "metadata": {},
   "source": [
    "## Trying 1st Linear Regression model with accomodates (data) and price (target)"
   ]
  },
  {
   "cell_type": "code",
   "execution_count": 15,
   "metadata": {},
   "outputs": [
    {
     "data": {
      "text/plain": [
       "1000"
      ]
     },
     "execution_count": 15,
     "metadata": {},
     "output_type": "execute_result"
    }
   ],
   "source": [
    "#creating smaller dataframe, subset of universal dataframe to build 1st linear model\n",
    "df1 = data.loc[:, ['row_id','accommodates','price']]\n",
    "df1 = df1[:1000] # making dataframe smaller for ease of repeating steps\n",
    "len(df1)"
   ]
  },
  {
   "cell_type": "code",
   "execution_count": 22,
   "metadata": {},
   "outputs": [
    {
     "name": "stdout",
     "output_type": "stream",
     "text": [
      "X Shape:  (1000, 1) y shape:  (1000, 1)\n"
     ]
    }
   ],
   "source": [
    "# distributing columns into feature and target\n",
    "X = df1['accommodates'].values.reshape(-1,1)\n",
    "y = df1['price'].values.reshape(-1,1)\n",
    "print('X Shape: ', X.shape, 'y shape: ',y.shape)"
   ]
  },
  {
   "cell_type": "code",
   "execution_count": 85,
   "metadata": {},
   "outputs": [
    {
     "data": {
      "text/plain": [
       "(array([[ 2.],\n",
       "        [ 3.],\n",
       "        [ 4.],\n",
       "        [ 2.],\n",
       "        [ 2.]]), array([[ 124.],\n",
       "        [ 250.],\n",
       "        [ 225.],\n",
       "        [  70.],\n",
       "        [  80.]]))"
      ]
     },
     "execution_count": 85,
     "metadata": {},
     "output_type": "execute_result"
    }
   ],
   "source": [
    "X_test[0:5], y_test[:5]"
   ]
  },
  {
   "cell_type": "code",
   "execution_count": null,
   "metadata": {
    "collapsed": true
   },
   "outputs": [],
   "source": []
  },
  {
   "cell_type": "code",
   "execution_count": null,
   "metadata": {
    "collapsed": true
   },
   "outputs": [],
   "source": []
  },
  {
   "cell_type": "code",
   "execution_count": 23,
   "metadata": {
    "collapsed": true
   },
   "outputs": [],
   "source": [
    "#split data into training and testing dataset\n",
    "from sklearn.model_selection import train_test_split\n",
    "\n",
    "X_train, X_test, y_train, y_test = \\\n",
    "train_test_split(X, y, random_state=4)\n"
   ]
  },
  {
   "cell_type": "code",
   "execution_count": 64,
   "metadata": {},
   "outputs": [
    {
     "data": {
      "text/plain": [
       "(250, 1)"
      ]
     },
     "execution_count": 64,
     "metadata": {},
     "output_type": "execute_result"
    }
   ],
   "source": [
    "X_test.shape"
   ]
  },
  {
   "cell_type": "code",
   "execution_count": 24,
   "metadata": {
    "collapsed": true
   },
   "outputs": [],
   "source": [
    "#creating model \n",
    "\n",
    "from sklearn.linear_model import LinearRegression\n",
    "model = LinearRegression()"
   ]
  },
  {
   "cell_type": "code",
   "execution_count": 25,
   "metadata": {},
   "outputs": [
    {
     "data": {
      "text/plain": [
       "LinearRegression(copy_X=True, fit_intercept=True, n_jobs=1, normalize=False)"
      ]
     },
     "execution_count": 25,
     "metadata": {},
     "output_type": "execute_result"
    }
   ],
   "source": [
    "#fitting model on training dataset\n",
    "model.fit(X_train,y_train)"
   ]
  },
  {
   "cell_type": "code",
   "execution_count": 26,
   "metadata": {},
   "outputs": [
    {
     "name": "stdout",
     "output_type": "stream",
     "text": [
      "Coefficient:  [[ 39.38295645]]\n",
      "y-intercept:  [ 97.50174259]\n"
     ]
    }
   ],
   "source": [
    "#checking coefficients and intercept of model\n",
    "\n",
    "print('Coefficient: ', model.coef_)\n",
    "print('y-intercept: ',model.intercept_)"
   ]
  },
  {
   "cell_type": "code",
   "execution_count": 31,
   "metadata": {
    "collapsed": true
   },
   "outputs": [],
   "source": [
    "#making model predict price using test dataset\n",
    "predictions = model.predict(X_test)\n",
    "# predictions[:5]"
   ]
  },
  {
   "cell_type": "code",
   "execution_count": 32,
   "metadata": {},
   "outputs": [
    {
     "name": "stdout",
     "output_type": "stream",
     "text": [
      "Mean squared error:  99955.4171867\n",
      "r2 score:  0.21524288412\n"
     ]
    }
   ],
   "source": [
    "#testing how good model is by calculating mean square and r2\n",
    "from sklearn.metrics import mean_squared_error, r2_score\n",
    "\n",
    "mse = mean_squared_error(y_test, predictions)\n",
    "r2 = r2_score(y_test, predictions)\n",
    "\n",
    "print('Mean squared error: ', mse)\n",
    "print('r2 score: ', r2)"
   ]
  },
  {
   "cell_type": "code",
   "execution_count": 49,
   "metadata": {},
   "outputs": [
    {
     "name": "stdout",
     "output_type": "stream",
     "text": [
      "test_score: 0.2152428841201749\n",
      " train_score: 0.18974252871824102\n"
     ]
    }
   ],
   "source": [
    "#check model score for both test and training\n",
    "train_score = model.score(X_train, y_train)\n",
    "test_score = model.score(X_test, y_test)\n",
    "print(f'test_score: {test_score}\\n train_score: {train_score}')"
   ]
  },
  {
   "cell_type": "code",
   "execution_count": 77,
   "metadata": {},
   "outputs": [
    {
     "data": {
      "text/plain": [
       "[<matplotlib.lines.Line2D at 0x11b941828>]"
      ]
     },
     "execution_count": 77,
     "metadata": {},
     "output_type": "execute_result"
    },
    {
     "data": {
      "image/png": "[encoded data removed]",
      "text/plain": [
       "<matplotlib.figure.Figure at 0x11b9366a0>"
      ]
     },
     "metadata": {},
     "output_type": "display_data"
    }
   ],
   "source": [
    "#trying to plot both datapoints\n",
    "%matplotlib inline \n",
    "# to show plot using plt.scatter and not having to do plt.show()\n",
    "plt.scatter(X_test, y_test, c='grey')\n",
    "plt.plot(X_test, predictions, c='red')\n",
    "# plt.scatter(X_test, predictions, c='green')\n",
    "# plt.show()"
   ]
  },
  {
   "cell_type": "code",
   "execution_count": 112,
   "metadata": {},
   "outputs": [
    {
     "data": {
      "text/plain": [
       "<matplotlib.text.Text at 0x12840e6a0>"
      ]
     },
     "execution_count": 112,
     "metadata": {},
     "output_type": "execute_result"
    },
    {
     "data": {
      "image/png": "[encoded data removed]",
      "text/plain": [
       "<matplotlib.figure.Figure at 0x1282315c0>"
      ]
     },
     "metadata": {},
     "output_type": "display_data"
    }
   ],
   "source": [
    "# Plot the Residuals for the Training and Testing data\n",
    "\n",
    "plt.scatter(model.predict(X_train), model.predict(X_train) - y_train, c='grey', label=\"Training Data\")\n",
    "plt.scatter(model.predict(X_test), model.predict(X_test) - y_test, c=\"pink\", label=\"Testing Data\")\n",
    "plt.legend(loc='center right')\n",
    "# plt.hlines(y=0, xmin=y.min(), xmax=y.max()) # not displaying clear results\n",
    "plt.hlines(y=0, xmin=y.min(),xmax=1000) #so changing xmax\n",
    "plt.title(\"Residual Plot\")\n",
    "### END SOLUTION"
   ]
  },
  {
   "cell_type": "code",
   "execution_count": 180,
   "metadata": {},
   "outputs": [
    {
     "data": {
      "text/plain": [
       "pandas.core.frame.DataFrame"
      ]
     },
     "execution_count": 180,
     "metadata": {},
     "output_type": "execute_result"
    }
   ],
   "source": [
    "#transfering X-test, y_test and predictins into df <-- fix it\n",
    "# df_predict = pd.DataFrame({'x_test': [X_test]})#, 'y_test': y_test, 'predicted_y': predictions})\n",
    "# df_predict.head(100)\n",
    "type(X_test)"
   ]
  },
  {
   "cell_type": "markdown",
   "metadata": {},
   "source": [
    "### Trying Multi-variate linear Regression model with Bedrooms, Bathrooms (data) and Price (target)"
   ]
  },
  {
   "cell_type": "code",
   "execution_count": 169,
   "metadata": {},
   "outputs": [
    {
     "data": {
      "text/plain": [
       "10000"
      ]
     },
     "execution_count": 169,
     "metadata": {},
     "output_type": "execute_result"
    }
   ],
   "source": [
    "#creating smaller dataframe, subset of universal dataframe to build 1st linear model\n",
    "df2 = data.loc[:, ['row_id','bedrooms','bathrooms','price']]\n",
    "df2 = df2[:10000] # making dataframe smaller for ease of repeating steps\n",
    "len(df2)"
   ]
  },
  {
   "cell_type": "code",
   "execution_count": 170,
   "metadata": {
    "collapsed": true
   },
   "outputs": [],
   "source": [
    "#filling blank rows with 0\n",
    "df2 = df2.fillna(0)"
   ]
  },
  {
   "cell_type": "code",
   "execution_count": 171,
   "metadata": {
    "collapsed": true
   },
   "outputs": [],
   "source": [
    "#assigning features and target variables\n",
    "X = df2[['bedrooms', 'bathrooms']]\n",
    "y = df2['price'].values.reshape(-1,1)"
   ]
  },
  {
   "cell_type": "code",
   "execution_count": 172,
   "metadata": {
    "collapsed": true
   },
   "outputs": [],
   "source": [
    "#spliting data test and train\n",
    "from sklearn.model_selection import train_test_split\n",
    "X_train, X_test, y_train, y_test = train_test_split(X,y,random_state=43)"
   ]
  },
  {
   "cell_type": "code",
   "execution_count": 173,
   "metadata": {
    "collapsed": true
   },
   "outputs": [],
   "source": [
    "#creating model\n",
    "from sklearn.linear_model import LinearRegression\n",
    "model = LinearRegression()"
   ]
  },
  {
   "cell_type": "code",
   "execution_count": 174,
   "metadata": {},
   "outputs": [
    {
     "data": {
      "text/plain": [
       "LinearRegression(copy_X=True, fit_intercept=True, n_jobs=1, normalize=False)"
      ]
     },
     "execution_count": 174,
     "metadata": {},
     "output_type": "execute_result"
    }
   ],
   "source": [
    "#model fit\n",
    "model.fit(X_train,y_train)\n"
   ]
  },
  {
   "cell_type": "code",
   "execution_count": 175,
   "metadata": {},
   "outputs": [
    {
     "name": "stdout",
     "output_type": "stream",
     "text": [
      "coeffs\n",
      "bedrooms: 111.10582806182954\n",
      "bathrooms:54.68633676626873 \n",
      "intercept 5.743189660451037\n"
     ]
    }
   ],
   "source": [
    "print\\\n",
    "(f'coeffs\\nbedrooms: {model.coef_[0][0]}\\nbathrooms:\\\n",
    "{model.coef_[0][1]} \\nintercept {model.intercept_[0]}')\n"
   ]
  },
  {
   "cell_type": "code",
   "execution_count": 143,
   "metadata": {},
   "outputs": [
    {
     "data": {
      "text/plain": [
       "(0.31223159316183036, 0.25685854540623321)"
      ]
     },
     "execution_count": 143,
     "metadata": {},
     "output_type": "execute_result"
    }
   ],
   "source": [
    "#checking the training model score\n",
    "training = model.score(X_train, y_train)\n",
    "testing = model.score(X_test, y_test)\n",
    "training, testing"
   ]
  },
  {
   "cell_type": "code",
   "execution_count": 176,
   "metadata": {},
   "outputs": [
    {
     "name": "stdout",
     "output_type": "stream",
     "text": [
      "Mean Squared Error (MSE): 52198.23043408427\n",
      "R-squared (R2 ): 0.21598123433556216\n"
     ]
    }
   ],
   "source": [
    "# predicting using model\n",
    "predicted = model.predict(X_test)\n",
    "\n",
    "# checking mse and r2\n",
    "from sklearn.metrics import mean_squared_error, r2_score\n",
    "\n",
    "# Score the prediction with mse and r2\n",
    "mse = mean_squared_error(y_test, predicted)\n",
    "r2 = r2_score(y_test, predicted)\n",
    "\n",
    "print(f\"Mean Squared Error (MSE): {mse}\")\n",
    "print(f\"R-squared (R2 ): {r2}\")\n"
   ]
  },
  {
   "cell_type": "code",
   "execution_count": null,
   "metadata": {
    "collapsed": true
   },
   "outputs": [],
   "source": []
  },
  {
   "cell_type": "markdown",
   "metadata": {},
   "source": [
    "### Doing same multivariate model by standardizing data but only for  <font color='red'>OCT-17 data</font> "
   ]
  },
  {
   "cell_type": "code",
   "execution_count": 387,
   "metadata": {
    "collapsed": true
   },
   "outputs": [],
   "source": [
    "#reading oct-17 listings from data folder\n",
    "oct_df = pd.read_csv('data/oct17-listings.csv', encoding = 'iso8859')"
   ]
  },
  {
   "cell_type": "code",
   "execution_count": 359,
   "metadata": {},
   "outputs": [
    {
     "data": {
      "text/html": [
       "<div>\n",
       "<style>\n",
       "    .dataframe thead tr:only-child th {\n",
       "        text-align: right;\n",
       "    }\n",
       "\n",
       "    .dataframe thead th {\n",
       "        text-align: left;\n",
       "    }\n",
       "\n",
       "    .dataframe tbody tr th {\n",
       "        vertical-align: top;\n",
       "    }\n",
       "</style>\n",
       "<table border=\"1\" class=\"dataframe\">\n",
       "  <thead>\n",
       "    <tr style=\"text-align: right;\">\n",
       "      <th></th>\n",
       "      <th>row_id</th>\n",
       "      <th>id</th>\n",
       "      <th>scrape_id</th>\n",
       "      <th>last_scraped</th>\n",
       "      <th>name</th>\n",
       "      <th>host_id</th>\n",
       "      <th>host_name</th>\n",
       "      <th>host_since</th>\n",
       "      <th>host_response_rate</th>\n",
       "      <th>host_neighbourhood</th>\n",
       "      <th>...</th>\n",
       "      <th>review_scores_accuracy</th>\n",
       "      <th>review_scores_cleanliness</th>\n",
       "      <th>review_scores_checkin</th>\n",
       "      <th>review_scores_communication</th>\n",
       "      <th>review_scores_location</th>\n",
       "      <th>review_scores_value</th>\n",
       "      <th>instant_bookable</th>\n",
       "      <th>cancellation_policy</th>\n",
       "      <th>calculated_host_listings_count</th>\n",
       "      <th>reviews_per_month</th>\n",
       "    </tr>\n",
       "  </thead>\n",
       "  <tbody>\n",
       "    <tr>\n",
       "      <th>0</th>\n",
       "      <td>1</td>\n",
       "      <td>16570521</td>\n",
       "      <td>2.020000e+13</td>\n",
       "      <td>10/2/17</td>\n",
       "      <td>Lands' End hideaway</td>\n",
       "      <td>21303289</td>\n",
       "      <td>Eugenia And Alessandro</td>\n",
       "      <td>9/14/14</td>\n",
       "      <td>100%</td>\n",
       "      <td>Sea Cliff</td>\n",
       "      <td>...</td>\n",
       "      <td>10.0</td>\n",
       "      <td>10.0</td>\n",
       "      <td>9.0</td>\n",
       "      <td>9.0</td>\n",
       "      <td>10.0</td>\n",
       "      <td>10.0</td>\n",
       "      <td>f</td>\n",
       "      <td>moderate</td>\n",
       "      <td>2</td>\n",
       "      <td>2.02</td>\n",
       "    </tr>\n",
       "    <tr>\n",
       "      <th>1</th>\n",
       "      <td>2</td>\n",
       "      <td>8001958</td>\n",
       "      <td>2.020000e+13</td>\n",
       "      <td>10/2/17</td>\n",
       "      <td>Ocean and park front panoramic view</td>\n",
       "      <td>24591867</td>\n",
       "      <td>Raul</td>\n",
       "      <td>12/7/14</td>\n",
       "      <td>NaN</td>\n",
       "      <td>Richmond District</td>\n",
       "      <td>...</td>\n",
       "      <td>NaN</td>\n",
       "      <td>NaN</td>\n",
       "      <td>NaN</td>\n",
       "      <td>NaN</td>\n",
       "      <td>NaN</td>\n",
       "      <td>NaN</td>\n",
       "      <td>f</td>\n",
       "      <td>flexible</td>\n",
       "      <td>1</td>\n",
       "      <td>NaN</td>\n",
       "    </tr>\n",
       "    <tr>\n",
       "      <th>2</th>\n",
       "      <td>3</td>\n",
       "      <td>8388658</td>\n",
       "      <td>2.020000e+13</td>\n",
       "      <td>10/2/17</td>\n",
       "      <td>Mid-century Seacliff near GG Bridge</td>\n",
       "      <td>9996441</td>\n",
       "      <td>Howard</td>\n",
       "      <td>11/13/13</td>\n",
       "      <td>NaN</td>\n",
       "      <td>Sea Cliff</td>\n",
       "      <td>...</td>\n",
       "      <td>NaN</td>\n",
       "      <td>NaN</td>\n",
       "      <td>NaN</td>\n",
       "      <td>NaN</td>\n",
       "      <td>NaN</td>\n",
       "      <td>NaN</td>\n",
       "      <td>f</td>\n",
       "      <td>flexible</td>\n",
       "      <td>1</td>\n",
       "      <td>NaN</td>\n",
       "    </tr>\n",
       "  </tbody>\n",
       "</table>\n",
       "<p>3 rows × 56 columns</p>\n",
       "</div>"
      ],
      "text/plain": [
       "   row_id        id     scrape_id last_scraped  \\\n",
       "0       1  16570521  2.020000e+13      10/2/17   \n",
       "1       2   8001958  2.020000e+13      10/2/17   \n",
       "2       3   8388658  2.020000e+13      10/2/17   \n",
       "\n",
       "                                  name   host_id               host_name  \\\n",
       "0                  Lands' End hideaway  21303289  Eugenia And Alessandro   \n",
       "1  Ocean and park front panoramic view  24591867                    Raul   \n",
       "2  Mid-century Seacliff near GG Bridge   9996441                  Howard   \n",
       "\n",
       "  host_since host_response_rate host_neighbourhood        ...         \\\n",
       "0    9/14/14               100%          Sea Cliff        ...          \n",
       "1    12/7/14                NaN  Richmond District        ...          \n",
       "2   11/13/13                NaN          Sea Cliff        ...          \n",
       "\n",
       "   review_scores_accuracy review_scores_cleanliness review_scores_checkin  \\\n",
       "0                    10.0                      10.0                   9.0   \n",
       "1                     NaN                       NaN                   NaN   \n",
       "2                     NaN                       NaN                   NaN   \n",
       "\n",
       "  review_scores_communication review_scores_location  review_scores_value  \\\n",
       "0                         9.0                   10.0                 10.0   \n",
       "1                         NaN                    NaN                  NaN   \n",
       "2                         NaN                    NaN                  NaN   \n",
       "\n",
       "  instant_bookable cancellation_policy calculated_host_listings_count  \\\n",
       "0                f            moderate                              2   \n",
       "1                f            flexible                              1   \n",
       "2                f            flexible                              1   \n",
       "\n",
       "  reviews_per_month  \n",
       "0              2.02  \n",
       "1               NaN  \n",
       "2               NaN  \n",
       "\n",
       "[3 rows x 56 columns]"
      ]
     },
     "execution_count": 359,
     "metadata": {},
     "output_type": "execute_result"
    }
   ],
   "source": [
    "#snapshot of oct_df\n",
    "oct_df.head(3)"
   ]
  },
  {
   "cell_type": "code",
   "execution_count": 361,
   "metadata": {
    "collapsed": true
   },
   "outputs": [],
   "source": [
    "#creating a list of columns that has special characters to replace it.\n",
    "cols = ['host_response_rate','price','weekly_price','security_deposit','cleaning_fee','extra_people']\n",
    "\n",
    "oct_df[cols] = oct_df[cols].replace({'\\$':'', ',':'', '%':''}, regex=True)"
   ]
  },
  {
   "cell_type": "code",
   "execution_count": 362,
   "metadata": {
    "collapsed": true
   },
   "outputs": [],
   "source": [
    "#filling up Nans using avg/0 of that column\n",
    "oct_df.accommodates = oct_df.accommodates.fillna(2) #assuming house/room accomodates atleast 2 people\n",
    "oct_df.bedrooms = oct_df.bedrooms.fillna(1) #assuming atleast 1 bedroom is up for hosting\n",
    "oct_df.bathrooms = oct_df.bathrooms.fillna(1) #assuming atleast 1 bathroom is available\n",
    "oct_df.beds = oct_df.beds.fillna(1) # assuming atleast 1 bed is available \n",
    "oct_df.security_deposit = oct_df.security_deposit.fillna(0) #if security deposit not mentioned, assuming it 0\n",
    "oct_df.cleaning_fee = oct_df.cleaning_fee.fillna(0) #if cleaning fee not mentioned, assuming it to be 0\n",
    "oct_df.price = oct_df.price.astype(float)"
   ]
  },
  {
   "cell_type": "code",
   "execution_count": 363,
   "metadata": {},
   "outputs": [
    {
     "data": {
      "text/plain": [
       "0    150.00 \n",
       "1          0\n",
       "2    250.00 \n",
       "3    500.00 \n",
       "4    500.00 \n",
       "Name: security_deposit, dtype: object"
      ]
     },
     "execution_count": 363,
     "metadata": {},
     "output_type": "execute_result"
    }
   ],
   "source": [
    "# selecting variables for 1st model for Oct 2017 data\n",
    "oct_df.security_deposit.head(5)"
   ]
  },
  {
   "cell_type": "code",
   "execution_count": 364,
   "metadata": {},
   "outputs": [
    {
     "data": {
      "text/plain": [
       "Index(['row_id', 'id', 'scrape_id', 'last_scraped', 'name', 'host_id',\n",
       "       'host_name', 'host_since', 'host_response_rate', 'host_neighbourhood',\n",
       "       'host_total_listings_count', 'street', 'neighbourhood_cleansed', 'city',\n",
       "       'state', 'zipcode', 'market', 'smart_location', 'country_code',\n",
       "       'country', 'latitude', 'longitude', 'is_location_exact',\n",
       "       'property_type', 'room_type', 'accommodates', 'bathrooms', 'bedrooms',\n",
       "       'beds', 'bed_type', 'amenities', 'square_feet', 'price', 'weekly_price',\n",
       "       'security_deposit', 'cleaning_fee', 'guests_included', 'extra_people',\n",
       "       'minimum_nights', 'maximum_nights', 'has_availability',\n",
       "       'availability_365', 'number_of_reviews', 'first_review', 'last_review',\n",
       "       'review_scores_rating', 'review_scores_accuracy',\n",
       "       'review_scores_cleanliness', 'review_scores_checkin',\n",
       "       'review_scores_communication', 'review_scores_location',\n",
       "       'review_scores_value', 'instant_bookable', 'cancellation_policy',\n",
       "       'calculated_host_listings_count', 'reviews_per_month'],\n",
       "      dtype='object')"
      ]
     },
     "execution_count": 364,
     "metadata": {},
     "output_type": "execute_result"
    }
   ],
   "source": [
    "oct_df.columns"
   ]
  },
  {
   "cell_type": "code",
   "execution_count": 365,
   "metadata": {},
   "outputs": [
    {
     "name": "stdout",
     "output_type": "stream",
     "text": [
      "(8933, 42) (8933, 1)\n"
     ]
    }
   ],
   "source": [
    "##splitting features to be used for modeling\n",
    "X = pd.get_dummies(oct_df[['neighbourhood_cleansed','bed_type']])\n",
    "y = oct_df['price'].values.reshape(-1,1)\n",
    "print(X.shape,y.shape)"
   ]
  },
  {
   "cell_type": "code",
   "execution_count": 366,
   "metadata": {},
   "outputs": [
    {
     "data": {
      "text/html": [
       "<div>\n",
       "<style>\n",
       "    .dataframe thead tr:only-child th {\n",
       "        text-align: right;\n",
       "    }\n",
       "\n",
       "    .dataframe thead th {\n",
       "        text-align: left;\n",
       "    }\n",
       "\n",
       "    .dataframe tbody tr th {\n",
       "        vertical-align: top;\n",
       "    }\n",
       "</style>\n",
       "<table border=\"1\" class=\"dataframe\">\n",
       "  <thead>\n",
       "    <tr style=\"text-align: right;\">\n",
       "      <th></th>\n",
       "      <th>neighbourhood_cleansed_Bayview</th>\n",
       "      <th>neighbourhood_cleansed_Bernal Heights</th>\n",
       "      <th>neighbourhood_cleansed_Castro/Upper Market</th>\n",
       "      <th>neighbourhood_cleansed_Chinatown</th>\n",
       "      <th>neighbourhood_cleansed_Crocker Amazon</th>\n",
       "      <th>neighbourhood_cleansed_Diamond Heights</th>\n",
       "      <th>neighbourhood_cleansed_Downtown/Civic Center</th>\n",
       "      <th>neighbourhood_cleansed_Excelsior</th>\n",
       "      <th>neighbourhood_cleansed_Financial District</th>\n",
       "      <th>neighbourhood_cleansed_Glen Park</th>\n",
       "      <th>...</th>\n",
       "      <th>neighbourhood_cleansed_Treasure Island/YBI</th>\n",
       "      <th>neighbourhood_cleansed_Twin Peaks</th>\n",
       "      <th>neighbourhood_cleansed_Visitacion Valley</th>\n",
       "      <th>neighbourhood_cleansed_West of Twin Peaks</th>\n",
       "      <th>neighbourhood_cleansed_Western Addition</th>\n",
       "      <th>bed_type_Airbed</th>\n",
       "      <th>bed_type_Couch</th>\n",
       "      <th>bed_type_Futon</th>\n",
       "      <th>bed_type_Pull-out Sofa</th>\n",
       "      <th>bed_type_Real Bed</th>\n",
       "    </tr>\n",
       "  </thead>\n",
       "  <tbody>\n",
       "    <tr>\n",
       "      <th>0</th>\n",
       "      <td>0</td>\n",
       "      <td>0</td>\n",
       "      <td>0</td>\n",
       "      <td>0</td>\n",
       "      <td>0</td>\n",
       "      <td>0</td>\n",
       "      <td>0</td>\n",
       "      <td>0</td>\n",
       "      <td>0</td>\n",
       "      <td>0</td>\n",
       "      <td>...</td>\n",
       "      <td>0</td>\n",
       "      <td>0</td>\n",
       "      <td>0</td>\n",
       "      <td>0</td>\n",
       "      <td>0</td>\n",
       "      <td>0</td>\n",
       "      <td>0</td>\n",
       "      <td>0</td>\n",
       "      <td>0</td>\n",
       "      <td>1</td>\n",
       "    </tr>\n",
       "    <tr>\n",
       "      <th>1</th>\n",
       "      <td>0</td>\n",
       "      <td>0</td>\n",
       "      <td>0</td>\n",
       "      <td>0</td>\n",
       "      <td>0</td>\n",
       "      <td>0</td>\n",
       "      <td>0</td>\n",
       "      <td>0</td>\n",
       "      <td>0</td>\n",
       "      <td>0</td>\n",
       "      <td>...</td>\n",
       "      <td>0</td>\n",
       "      <td>0</td>\n",
       "      <td>0</td>\n",
       "      <td>0</td>\n",
       "      <td>0</td>\n",
       "      <td>1</td>\n",
       "      <td>0</td>\n",
       "      <td>0</td>\n",
       "      <td>0</td>\n",
       "      <td>0</td>\n",
       "    </tr>\n",
       "    <tr>\n",
       "      <th>2</th>\n",
       "      <td>0</td>\n",
       "      <td>0</td>\n",
       "      <td>0</td>\n",
       "      <td>0</td>\n",
       "      <td>0</td>\n",
       "      <td>0</td>\n",
       "      <td>0</td>\n",
       "      <td>0</td>\n",
       "      <td>0</td>\n",
       "      <td>0</td>\n",
       "      <td>...</td>\n",
       "      <td>0</td>\n",
       "      <td>0</td>\n",
       "      <td>0</td>\n",
       "      <td>0</td>\n",
       "      <td>0</td>\n",
       "      <td>0</td>\n",
       "      <td>0</td>\n",
       "      <td>0</td>\n",
       "      <td>0</td>\n",
       "      <td>1</td>\n",
       "    </tr>\n",
       "    <tr>\n",
       "      <th>3</th>\n",
       "      <td>0</td>\n",
       "      <td>0</td>\n",
       "      <td>0</td>\n",
       "      <td>0</td>\n",
       "      <td>0</td>\n",
       "      <td>0</td>\n",
       "      <td>0</td>\n",
       "      <td>0</td>\n",
       "      <td>0</td>\n",
       "      <td>0</td>\n",
       "      <td>...</td>\n",
       "      <td>0</td>\n",
       "      <td>0</td>\n",
       "      <td>0</td>\n",
       "      <td>0</td>\n",
       "      <td>0</td>\n",
       "      <td>0</td>\n",
       "      <td>0</td>\n",
       "      <td>0</td>\n",
       "      <td>0</td>\n",
       "      <td>1</td>\n",
       "    </tr>\n",
       "    <tr>\n",
       "      <th>4</th>\n",
       "      <td>0</td>\n",
       "      <td>0</td>\n",
       "      <td>0</td>\n",
       "      <td>0</td>\n",
       "      <td>0</td>\n",
       "      <td>0</td>\n",
       "      <td>0</td>\n",
       "      <td>0</td>\n",
       "      <td>0</td>\n",
       "      <td>0</td>\n",
       "      <td>...</td>\n",
       "      <td>0</td>\n",
       "      <td>0</td>\n",
       "      <td>0</td>\n",
       "      <td>0</td>\n",
       "      <td>0</td>\n",
       "      <td>0</td>\n",
       "      <td>0</td>\n",
       "      <td>0</td>\n",
       "      <td>0</td>\n",
       "      <td>1</td>\n",
       "    </tr>\n",
       "  </tbody>\n",
       "</table>\n",
       "<p>5 rows × 42 columns</p>\n",
       "</div>"
      ],
      "text/plain": [
       "   neighbourhood_cleansed_Bayview  neighbourhood_cleansed_Bernal Heights  \\\n",
       "0                               0                                      0   \n",
       "1                               0                                      0   \n",
       "2                               0                                      0   \n",
       "3                               0                                      0   \n",
       "4                               0                                      0   \n",
       "\n",
       "   neighbourhood_cleansed_Castro/Upper Market  \\\n",
       "0                                           0   \n",
       "1                                           0   \n",
       "2                                           0   \n",
       "3                                           0   \n",
       "4                                           0   \n",
       "\n",
       "   neighbourhood_cleansed_Chinatown  neighbourhood_cleansed_Crocker Amazon  \\\n",
       "0                                 0                                      0   \n",
       "1                                 0                                      0   \n",
       "2                                 0                                      0   \n",
       "3                                 0                                      0   \n",
       "4                                 0                                      0   \n",
       "\n",
       "   neighbourhood_cleansed_Diamond Heights  \\\n",
       "0                                       0   \n",
       "1                                       0   \n",
       "2                                       0   \n",
       "3                                       0   \n",
       "4                                       0   \n",
       "\n",
       "   neighbourhood_cleansed_Downtown/Civic Center  \\\n",
       "0                                             0   \n",
       "1                                             0   \n",
       "2                                             0   \n",
       "3                                             0   \n",
       "4                                             0   \n",
       "\n",
       "   neighbourhood_cleansed_Excelsior  \\\n",
       "0                                 0   \n",
       "1                                 0   \n",
       "2                                 0   \n",
       "3                                 0   \n",
       "4                                 0   \n",
       "\n",
       "   neighbourhood_cleansed_Financial District  \\\n",
       "0                                          0   \n",
       "1                                          0   \n",
       "2                                          0   \n",
       "3                                          0   \n",
       "4                                          0   \n",
       "\n",
       "   neighbourhood_cleansed_Glen Park        ...          \\\n",
       "0                                 0        ...           \n",
       "1                                 0        ...           \n",
       "2                                 0        ...           \n",
       "3                                 0        ...           \n",
       "4                                 0        ...           \n",
       "\n",
       "   neighbourhood_cleansed_Treasure Island/YBI  \\\n",
       "0                                           0   \n",
       "1                                           0   \n",
       "2                                           0   \n",
       "3                                           0   \n",
       "4                                           0   \n",
       "\n",
       "   neighbourhood_cleansed_Twin Peaks  \\\n",
       "0                                  0   \n",
       "1                                  0   \n",
       "2                                  0   \n",
       "3                                  0   \n",
       "4                                  0   \n",
       "\n",
       "   neighbourhood_cleansed_Visitacion Valley  \\\n",
       "0                                         0   \n",
       "1                                         0   \n",
       "2                                         0   \n",
       "3                                         0   \n",
       "4                                         0   \n",
       "\n",
       "   neighbourhood_cleansed_West of Twin Peaks  \\\n",
       "0                                          0   \n",
       "1                                          0   \n",
       "2                                          0   \n",
       "3                                          0   \n",
       "4                                          0   \n",
       "\n",
       "   neighbourhood_cleansed_Western Addition  bed_type_Airbed  bed_type_Couch  \\\n",
       "0                                        0                0               0   \n",
       "1                                        0                1               0   \n",
       "2                                        0                0               0   \n",
       "3                                        0                0               0   \n",
       "4                                        0                0               0   \n",
       "\n",
       "   bed_type_Futon  bed_type_Pull-out Sofa  bed_type_Real Bed  \n",
       "0               0                       0                  1  \n",
       "1               0                       0                  0  \n",
       "2               0                       0                  1  \n",
       "3               0                       0                  1  \n",
       "4               0                       0                  1  \n",
       "\n",
       "[5 rows x 42 columns]"
      ]
     },
     "execution_count": 366,
     "metadata": {},
     "output_type": "execute_result"
    }
   ],
   "source": [
    "X.head()"
   ]
  },
  {
   "cell_type": "code",
   "execution_count": 367,
   "metadata": {},
   "outputs": [
    {
     "data": {
      "text/plain": [
       "array([ 120.])"
      ]
     },
     "execution_count": 367,
     "metadata": {},
     "output_type": "execute_result"
    }
   ],
   "source": [
    "y[0]"
   ]
  },
  {
   "cell_type": "code",
   "execution_count": 368,
   "metadata": {
    "collapsed": true
   },
   "outputs": [],
   "source": [
    "#spliting dataset into training and testing\n",
    "from sklearn.model_selection import train_test_split\n",
    "\n",
    "X_train, X_test, y_train, y_test = train_test_split(X, y, random_state=42)\n"
   ]
  },
  {
   "cell_type": "code",
   "execution_count": null,
   "metadata": {
    "collapsed": true
   },
   "outputs": [],
   "source": [
    "# from sklearn.preprocessing import StandardScaler\n",
    "\n",
    "# # Create a StandardScater model and fit it to the training data\n",
    "\n",
    "# ### BEGIN SOLUTION\n",
    "# X_scaler = StandardScaler().fit(X_train)\n",
    "# y_scaler = StandardScaler().fit(y_train)\n",
    "### END SOLUTION"
   ]
  },
  {
   "cell_type": "code",
   "execution_count": null,
   "metadata": {
    "collapsed": true
   },
   "outputs": [],
   "source": [
    "# Transform the training and testing data using the X_scaler and y_scaler models\n",
    "\n",
    "# ### BEGIN SOLUTION\n",
    "# X_train_scaled = X_scaler.transform(X_train)\n",
    "# X_test_scaled = X_scaler.transform(X_test)\n",
    "# y_train_scaled = y_scaler.transform(y_train)\n",
    "# y_test_scaled = y_scaler.transform(y_test)\n",
    "# ### END SOLUTION"
   ]
  },
  {
   "cell_type": "code",
   "execution_count": 377,
   "metadata": {},
   "outputs": [
    {
     "data": {
      "text/plain": [
       "((6699, 42), (6699, 1), (2234, 42), (2234, 1))"
      ]
     },
     "execution_count": 377,
     "metadata": {},
     "output_type": "execute_result"
    }
   ],
   "source": [
    "X2_train.shape, y2_train.shape, X2_test.shape, y2_test.shape"
   ]
  },
  {
   "cell_type": "code",
   "execution_count": 378,
   "metadata": {},
   "outputs": [
    {
     "data": {
      "text/plain": [
       "LinearRegression(copy_X=True, fit_intercept=True, n_jobs=1, normalize=False)"
      ]
     },
     "execution_count": 378,
     "metadata": {},
     "output_type": "execute_result"
    }
   ],
   "source": [
    "# creating the model and trying model fit\n",
    "model2 = LinearRegression()\n",
    "model2.fit(X_train,y_train)\n",
    "model2"
   ]
  },
  {
   "cell_type": "code",
   "execution_count": 381,
   "metadata": {},
   "outputs": [
    {
     "data": {
      "text/plain": [
       "array([[ 260.5],\n",
       "       [ 212.5],\n",
       "       [ 176.5],\n",
       "       ..., \n",
       "       [ 223. ],\n",
       "       [ 299. ],\n",
       "       [ 299. ]])"
      ]
     },
     "execution_count": 381,
     "metadata": {},
     "output_type": "execute_result"
    }
   ],
   "source": [
    "#creating predictions from model\n",
    "predictions = model2.predict(X_test)\n",
    "predictions"
   ]
  },
  {
   "cell_type": "code",
   "execution_count": 382,
   "metadata": {
    "scrolled": true
   },
   "outputs": [
    {
     "data": {
      "image/png": "[encoded data removed]",
      "text/plain": [
       "<matplotlib.figure.Figure at 0x12ac7eb00>"
      ]
     },
     "metadata": {},
     "output_type": "display_data"
    }
   ],
   "source": [
    "#plotting the predictions and test values\n",
    "plt.plot(y_test,y_test, c='red')\n",
    "plt.scatter(y_test, predictions, c='blue')\n",
    "plt.show()"
   ]
  },
  {
   "cell_type": "code",
   "execution_count": 389,
   "metadata": {
    "scrolled": true
   },
   "outputs": [
    {
     "data": {
      "text/plain": [
       "(209090.4347582811, 0.0055152033163204939)"
      ]
     },
     "execution_count": 389,
     "metadata": {},
     "output_type": "execute_result"
    }
   ],
   "source": [
    "from sklearn.metrics import mean_squared_error, r2_score\n",
    "\n",
    "MSE = mean_squared_error(y_test, predictions)\n",
    "r2 = r2_score(y_test, predictions)\n",
    "\n",
    "MSE, r2"
   ]
  },
  {
   "cell_type": "code",
   "execution_count": null,
   "metadata": {
    "collapsed": true
   },
   "outputs": [],
   "source": []
  }
 ],
 "metadata": {
  "kernelspec": {
   "display_name": "Python 3",
   "language": "python",
   "name": "python3"
  },
  "language_info": {
   "codemirror_mode": {
    "name": "ipython",
    "version": 3
   },
   "file_extension": ".py",
   "mimetype": "text/x-python",
   "name": "python",
   "nbconvert_exporter": "python",
   "pygments_lexer": "ipython3",
   "version": "3.6.1"
  }
 },
 "nbformat": 4,
 "nbformat_minor": 2
}
